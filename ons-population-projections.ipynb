{
 "cells": [
  {
   "cell_type": "markdown",
   "metadata": {
    "deletable": true,
    "editable": true
   },
   "source": [
    "# ONS population projections\n",
    "\n",
    "The UK Office of National Statistics produce national population projections ([overview](https://www.ons.gov.uk/peoplepopulationandcommunity/populationandmigration/populationprojections/compendium/nationalpopulationprojections/)) and each of the England, Wales, Scotland and Northern Ireland produce sub-national projections at the local area scale.\n",
    "\n",
    "As of April 2018, the latest available sub-national projections are based on 2014 mid-year estimates. Mid-year estimates are produced annually; the most recent census was in 2011.\n",
    "\n",
    "This notebook:\n",
    "1. Downloads data from each national statistics office\n",
    "2. Compiles a single [tidy](http://vita.had.co.nz/papers/tidy-data.html) data frame of projected population\n",
    "3. Outputs to CSV\n",
    "4. Outputs to multiple CSVs for use in [smif](smif.readthedocs.io/en/latest/)"
   ]
  },
  {
   "cell_type": "markdown",
   "metadata": {
    "deletable": true,
    "editable": true
   },
   "source": [
    "## 1. Download data"
   ]
  },
  {
   "cell_type": "code",
   "execution_count": null,
   "metadata": {
    "collapsed": true,
    "deletable": true,
    "editable": true
   },
   "outputs": [],
   "source": [
    "import os\n",
    "import json\n",
    "import zipfile\n",
    "\n",
    "import pandas as pd\n",
    "import requests"
   ]
  },
  {
   "cell_type": "code",
   "execution_count": null,
   "metadata": {
    "collapsed": true,
    "deletable": true,
    "editable": true
   },
   "outputs": [],
   "source": [
    "def download(url, file_path):\n",
    "    \"\"\"Download a file from a URL to a given path\n",
    "    \"\"\"\n",
    "    if os.path.exists(file_path):\n",
    "        print(\"Already have\", file_path)\n",
    "    else:\n",
    "        response = requests.get(url)\n",
    "        with open(file_path, 'wb') as fd:\n",
    "            for chunk in response.iter_content(chunk_size=1024):\n",
    "                fd.write(chunk)\n",
    "        print(\"Downloaded\", file_path)"
   ]
  },
  {
   "cell_type": "markdown",
   "metadata": {
    "deletable": true,
    "editable": true
   },
   "source": [
    "### England\n",
    "- summary: [Subnational Population Projections, Local Authorities in England: SNPP Z1](https://www.ons.gov.uk/peoplepopulationandcommunity/populationandmigration/populationprojections/datasets/localauthoritiesinenglandz1)\n",
    "- data: https://www.ons.gov.uk/file?uri=/peoplepopulationandcommunity/populationandmigration/populationprojections/datasets/localauthoritiesinenglandz1/2014based/snppz1population.zip\n",
    "- license: Open Government Licence http://www.nationalarchives.gov.uk/doc/open-government-licence/version/3/"
   ]
  },
  {
   "cell_type": "code",
   "execution_count": null,
   "metadata": {
    "collapsed": false,
    "deletable": true,
    "editable": true
   },
   "outputs": [],
   "source": [
    "download(\n",
    "    \"https://www.ons.gov.uk/file?uri=/peoplepopulationandcommunity/populationandmigration/populationprojections/datasets/localauthoritiesinenglandz1/2014based/snppz1population.zip\",\n",
    "    \"snpp_england.zip\"\n",
    ")"
   ]
  },
  {
   "cell_type": "markdown",
   "metadata": {
    "deletable": true,
    "editable": true
   },
   "source": [
    "Extract \"2014 SNPP Population persons.csv\" for principal projection in England"
   ]
  },
  {
   "cell_type": "code",
   "execution_count": null,
   "metadata": {
    "collapsed": true,
    "deletable": true,
    "editable": true
   },
   "outputs": [],
   "source": [
    "with zipfile.ZipFile(\"snpp_england.zip\", 'r') as zf:\n",
    "    zf.extractall()"
   ]
  },
  {
   "cell_type": "markdown",
   "metadata": {
    "deletable": true,
    "editable": true
   },
   "source": [
    "- summary: [Experimental variant 2014-based subnational population projections for local authorities in England, mid-2014 to mid-2039 – high fertility](https://www.ons.gov.uk/peoplepopulationandcommunity/populationandmigration/populationprojections/adhocs/005982variant2014basedsubnationalpopulationprojectionsforlocalauthoritiesinenglandmid2014tomid2039highfertility)"
   ]
  },
  {
   "cell_type": "code",
   "execution_count": null,
   "metadata": {
    "collapsed": false,
    "deletable": true,
    "editable": true
   },
   "outputs": [],
   "source": [
    "download(\n",
    "    \"https://www.ons.gov.uk/file?uri=/peoplepopulationandcommunity/populationandmigration/populationprojections/adhocs/005982variant2014basedsubnationalpopulationprojectionsforlocalauthoritiesinenglandmid2014tomid2039highfertility/2014snpphighfertilityvariant.xls\",\n",
    "    \"snpp_england_high_fertility.xls\"\n",
    ")"
   ]
  },
  {
   "cell_type": "markdown",
   "metadata": {
    "deletable": true,
    "editable": true
   },
   "source": [
    "- summary: [Experimental variant 2014-based subnational population projections for local authorities in England, mid-2014 to mid-2039 – zero net migration](https://www.ons.gov.uk/peoplepopulationandcommunity/populationandmigration/populationprojections/adhocs/005983variant2014basedsubnationalpopulationprojectionsforlocalauthoritiesinenglandmid2014tomid2039zeronetmigration)"
   ]
  },
  {
   "cell_type": "code",
   "execution_count": null,
   "metadata": {
    "collapsed": false,
    "deletable": true,
    "editable": true
   },
   "outputs": [],
   "source": [
    "download(\n",
    "    \"https://www.ons.gov.uk/file?uri=/peoplepopulationandcommunity/populationandmigration/populationprojections/adhocs/005983variant2014basedsubnationalpopulationprojectionsforlocalauthoritiesinenglandmid2014tomid2039zeronetmigration/2014snppzeronetmigrationvariant.xls\",\n",
    "    \"snpp_england_zero_net_migration.xls\"\n",
    ")"
   ]
  },
  {
   "cell_type": "markdown",
   "metadata": {
    "deletable": true,
    "editable": true
   },
   "source": [
    "### Wales\n",
    "- summary: [Population > Projections > Local authority > 2014-based](https://statswales.gov.wales/Catalogue/Population-and-Migration/Population/Projections/Local-Authority/2014-based)\n",
    "- data: http://open.statswales.gov.wales/dataset/popu5099\n",
    "- license: Open Government License / Crown Copyright 2017"
   ]
  },
  {
   "cell_type": "code",
   "execution_count": null,
   "metadata": {
    "collapsed": false,
    "deletable": true,
    "editable": true
   },
   "outputs": [],
   "source": [
    "if os.path.exists(\"snpp_wales.csv\"):\n",
    "    print(\"Already have snpp_wales.csv\")\n",
    "else:\n",
    "    url = \"http://open.statswales.gov.wales/dataset/popu5099\"\n",
    "    data = []\n",
    "    while True:\n",
    "        print(url)\n",
    "        r = requests.get(url)\n",
    "        r_data = r.json()\n",
    "        data += r_data['value']\n",
    "        if \"odata.nextLink\" in r_data:\n",
    "            url = r_data[\"odata.nextLink\"]\n",
    "        else:\n",
    "            break\n",
    "    df = pd.DataFrame(data)\n",
    "    df.to_csv('snpp_wales.csv', index=False)"
   ]
  },
  {
   "cell_type": "markdown",
   "metadata": {
    "deletable": true,
    "editable": true
   },
   "source": [
    "### Scotland\n",
    "- summary: [Population Projections for Scottish Areas (2014-based)](https://www.nrscotland.gov.uk/statistics-and-data/statistics/statistics-by-theme/population/population-projections/sub-national-population-projections/2014-based/list-of-tables)\n",
    "- data: https://www.nrscotland.gov.uk/files//statistics/population-projections/snpp-2014/pop-proj-scot-areas-14-populationvariants.csv\n",
    "- license: Open Government Licence / Crown Copyright 2014 Data supplied by National Records of Scotland"
   ]
  },
  {
   "cell_type": "code",
   "execution_count": null,
   "metadata": {
    "collapsed": false,
    "deletable": true,
    "editable": true
   },
   "outputs": [],
   "source": [
    "download(\n",
    "    \"https://www.nrscotland.gov.uk/files//statistics/population-projections/snpp-2014/pop-proj-scot-areas-14-populationvariants.csv\",\n",
    "    \"snpp_scotland.csv\"\n",
    ")"
   ]
  },
  {
   "cell_type": "markdown",
   "metadata": {
    "deletable": true,
    "editable": true
   },
   "source": [
    "- summary: [Local Authority Districts (December 2016) Names and Codes in the United Kingdom](http://geoportal.statistics.gov.uk/datasets/local-authority-districts-december-2016-names-and-codes-in-the-united-kingdom)\n",
    "- data: https://opendata.arcgis.com/datasets/464be6191a434a91a5fa2f52c7433333_0.csv\n",
    "- license: OGL http://www.nationalarchives.gov.uk/doc/open-government-licence/, Contains National Statistics data © Crown copyright and database right [2016]"
   ]
  },
  {
   "cell_type": "code",
   "execution_count": null,
   "metadata": {
    "collapsed": false,
    "deletable": true,
    "editable": true
   },
   "outputs": [],
   "source": [
    "download(\n",
    "    \"https://opendata.arcgis.com/datasets/464be6191a434a91a5fa2f52c7433333_0.csv\",\n",
    "    \"lad_names_codes.csv\"\n",
    ")"
   ]
  },
  {
   "cell_type": "markdown",
   "metadata": {
    "deletable": true,
    "editable": true
   },
   "source": [
    "### Northern Ireland\n",
    "- summary: [2014-based Population Projections for Areas within Northern Ireland](https://www.nisra.gov.uk/publications/2014-based-population-projections-areas-within-northern-ireland)\n",
    "- data: https://www.nisra.gov.uk/sites/nisra.gov.uk/files/publications/SNPP14-LGD14-Tot-1439.xlsx\n",
    "- license: Open Government Licence / Crown Copyright 2018 Source: NISRA : Website: www.nisra.gov.uk"
   ]
  },
  {
   "cell_type": "code",
   "execution_count": null,
   "metadata": {
    "collapsed": false,
    "deletable": true,
    "editable": true
   },
   "outputs": [],
   "source": [
    "download(\n",
    "    \"https://www.nisra.gov.uk/sites/nisra.gov.uk/files/publications/SNPP14-LGD14-Tot-1439.xlsx\",\n",
    "    \"snpp_northern_ireland.xlsx\"\n",
    ")"
   ]
  },
  {
   "cell_type": "markdown",
   "metadata": {
    "deletable": true,
    "editable": true
   },
   "source": [
    "- summary: [Z6 - Zipped population projections data files, Northern Ireland](https://www.ons.gov.uk/peoplepopulationandcommunity/populationandmigration/populationprojections/datasets/z6zippedpopulationprojectionsdatafilesnorthernireland)\n",
    "- data: https://www.ons.gov.uk/file?uri=/peoplepopulationandcommunity/populationandmigration/populationprojections/datasets/z6zippedpopulationprojectionsdatafilesnorthernireland/2014based/rft-table-z6-open-data---northern-ireland.zip\n",
    "- license: OGL"
   ]
  },
  {
   "cell_type": "code",
   "execution_count": null,
   "metadata": {
    "collapsed": false,
    "deletable": true,
    "editable": true
   },
   "outputs": [],
   "source": [
    "download(\n",
    "    \"https://www.ons.gov.uk/file?uri=/peoplepopulationandcommunity/populationandmigration/populationprojections/datasets/z6zippedpopulationprojectionsdatafilesnorthernireland/2014based/rft-table-z6-open-data---northern-ireland.zip\",\n",
    "    \"npp_northern_ireland.zip\"\n",
    ")"
   ]
  },
  {
   "cell_type": "code",
   "execution_count": null,
   "metadata": {
    "collapsed": false,
    "deletable": true,
    "editable": true
   },
   "outputs": [],
   "source": [
    "with zipfile.ZipFile(\"npp_northern_ireland.zip\", 'r') as zf:\n",
    "    zf.extractall()"
   ]
  },
  {
   "cell_type": "markdown",
   "metadata": {
    "deletable": true,
    "editable": true
   },
   "source": [
    "## 2. Compile data"
   ]
  },
  {
   "cell_type": "markdown",
   "metadata": {
    "deletable": true,
    "editable": true
   },
   "source": [
    "### England"
   ]
  },
  {
   "cell_type": "code",
   "execution_count": null,
   "metadata": {
    "collapsed": false,
    "deletable": true,
    "editable": true
   },
   "outputs": [],
   "source": [
    "england_df = pd.read_csv(\n",
    "    \"2014 SNPP Population persons.csv\"\n",
    ").query(\n",
    "    \"AGE_GROUP == 'All ages'\"\n",
    ").drop(\n",
    "    columns=['SEX', 'AGE_GROUP', 'COMPONENT']\n",
    ").melt(\n",
    "    id_vars=['AREA_CODE', 'AREA_NAME'],\n",
    "    var_name='year',\n",
    "    value_name='population'\n",
    ").rename(\n",
    "    columns={\n",
    "        \"AREA_CODE\": \"lad_code\",\n",
    "        \"AREA_NAME\": \"lad_name\"\n",
    "    }\n",
    ").sort_values(\n",
    "    by=['year', 'lad_code']\n",
    ")\n",
    "england_df['scenario'] = 'principal'\n",
    "england_df"
   ]
  },
  {
   "cell_type": "code",
   "execution_count": null,
   "metadata": {
    "collapsed": false,
    "deletable": true,
    "editable": true
   },
   "outputs": [],
   "source": [
    "england_hf_df = pd.read_excel(\n",
    "    \"snpp_england_high_fertility.xls\",\n",
    "    sheet_name=\"Persons\"\n",
    ").drop(\n",
    "    columns=['AGE GROUP', 'SEX']\n",
    ").groupby(\n",
    "    ['AREA CODE', 'AREA NAME']\n",
    ").sum().reset_index().melt(\n",
    "    id_vars=['AREA CODE', 'AREA NAME'],\n",
    "    var_name='year',\n",
    "    value_name='population'\n",
    ").rename(\n",
    "    columns={\n",
    "        \"AREA CODE\": \"lad_code\",\n",
    "        \"AREA NAME\": \"lad_name\"\n",
    "    }\n",
    ")\n",
    "england_hf_df['scenario'] = 'high_fertility'\n",
    "england_hf_df"
   ]
  },
  {
   "cell_type": "code",
   "execution_count": null,
   "metadata": {
    "collapsed": false,
    "deletable": true,
    "editable": true
   },
   "outputs": [],
   "source": [
    "england_znm_df = pd.read_excel(\n",
    "    \"snpp_england_zero_net_migration.xls\",\n",
    "    sheet_name=\"Persons\"\n",
    ").drop(\n",
    "    columns=['AGE GROUP', 'SEX']\n",
    ").groupby(\n",
    "    ['AREA CODE', 'AREA NAME']\n",
    ").sum().reset_index().melt(\n",
    "    id_vars=['AREA CODE', 'AREA NAME'],\n",
    "    var_name='year',\n",
    "    value_name='population'\n",
    ").rename(\n",
    "    columns={\n",
    "        \"AREA CODE\": \"lad_code\",\n",
    "        \"AREA NAME\": \"lad_name\"\n",
    "    }\n",
    ")\n",
    "england_znm_df['scenario'] = 'zero_net_migration'\n",
    "england_znm_df"
   ]
  },
  {
   "cell_type": "markdown",
   "metadata": {
    "deletable": true,
    "editable": true
   },
   "source": [
    "### Northern Ireland"
   ]
  },
  {
   "cell_type": "code",
   "execution_count": null,
   "metadata": {
    "collapsed": false,
    "deletable": true,
    "editable": true
   },
   "outputs": [],
   "source": [
    "ni_df = pd.read_excel(\n",
    "    \"snpp_northern_ireland.xlsx\",\n",
    "    index_col=[0,1],\n",
    "    header=2\n",
    ").dropna(\n",
    ")[1:12].reset_index(\n",
    ").rename(\n",
    "    columns={\n",
    "        'level_0': 'lad_name',\n",
    "        'level_1': 'lad_code'\n",
    "    }\n",
    ").melt(\n",
    "    id_vars=['lad_name', 'lad_code'],\n",
    "    var_name='year',\n",
    "    value_name='principal'\n",
    ")\n",
    "ni_df"
   ]
  },
  {
   "cell_type": "code",
   "execution_count": null,
   "metadata": {
    "collapsed": false,
    "deletable": true,
    "editable": true
   },
   "outputs": [],
   "source": [
    "from bs4 import BeautifulSoup\n",
    "\n",
    "def read_excel_xml(path, sheet_name):\n",
    "    file = open(path).read()\n",
    "    soup = BeautifulSoup(file,'xml')\n",
    "    worksheet = []\n",
    "    for sheet in soup.findAll('Worksheet'): \n",
    "        if sheet[\"ss:Name\"] == sheet_name:\n",
    "            for row in sheet.findAll('Row'):\n",
    "                row_as_list = []\n",
    "                for cell in row.findAll('Cell'):\n",
    "                    data = cell.find('Data')\n",
    "                    if data:\n",
    "                        row_as_list.append(data.text)\n",
    "\n",
    "                worksheet.append(row_as_list)\n",
    "    return worksheet"
   ]
  },
  {
   "cell_type": "code",
   "execution_count": null,
   "metadata": {
    "collapsed": false,
    "deletable": true,
    "editable": true
   },
   "outputs": [],
   "source": [
    "ni_hpp_list = read_excel_xml(\"ni_hpp_opendata2014.xml\", \"Population\")"
   ]
  },
  {
   "cell_type": "code",
   "execution_count": null,
   "metadata": {
    "collapsed": false,
    "deletable": true,
    "editable": true
   },
   "outputs": [],
   "source": [
    "ni_hpp = pd.DataFrame(ni_hpp_list[1:], columns=ni_hpp_list[0])\n",
    "ni_hpp['scenario'] = 'high_fertility'\n",
    "ni_hpp = ni_hpp.drop(\n",
    "    columns=['Sex', 'Age']\n",
    ").melt(\n",
    "    id_vars=['scenario'],\n",
    "    var_name='year',\n",
    "    value_name='high_fertility_total'\n",
    ")\n",
    "ni_hpp.high_fertility_total = ni_hpp.high_fertility_total.astype(int)\n",
    "ni_hpp.year = ni_hpp.year.astype(int)\n",
    "ni_hpp = ni_hpp.drop(columns=['scenario']).groupby(\n",
    "    'year'\n",
    ").sum().reset_index()\n",
    "ni_hpp.head()"
   ]
  },
  {
   "cell_type": "code",
   "execution_count": null,
   "metadata": {
    "collapsed": true,
    "deletable": true,
    "editable": true
   },
   "outputs": [],
   "source": [
    "ni_ppp_list = read_excel_xml(\"ni_ppp_opendata2014.xml\", \"Population\")"
   ]
  },
  {
   "cell_type": "code",
   "execution_count": null,
   "metadata": {
    "collapsed": false,
    "deletable": true,
    "editable": true
   },
   "outputs": [],
   "source": [
    "ni_ppp = pd.DataFrame(ni_ppp_list[1:], columns=ni_ppp_list[0])\n",
    "ni_ppp['scenario'] = 'principal'\n",
    "ni_ppp = ni_ppp.drop(\n",
    "    columns=['Sex', 'Age']\n",
    ").melt(\n",
    "    id_vars=['scenario'],\n",
    "    var_name='year',\n",
    "    value_name='principal_total'\n",
    ")\n",
    "ni_ppp.principal_total = ni_ppp.principal_total.astype(int)\n",
    "ni_ppp.year = ni_ppp.year.astype(int)\n",
    "ni_ppp = ni_ppp.drop(columns=['scenario']).groupby(\n",
    "    'year'\n",
    ").sum().reset_index()\n",
    "ni_ppp = ni_ppp[ni_ppp.year < 2040]\n",
    "ni_ppp.head()"
   ]
  },
  {
   "cell_type": "code",
   "execution_count": null,
   "metadata": {
    "collapsed": true,
    "deletable": true,
    "editable": true
   },
   "outputs": [],
   "source": [
    "ni_ppz_list = read_excel_xml(\"ni_ppz_opendata2014.xml\", \"Population\")"
   ]
  },
  {
   "cell_type": "code",
   "execution_count": null,
   "metadata": {
    "collapsed": false,
    "deletable": true,
    "editable": true
   },
   "outputs": [],
   "source": [
    "ni_ppz = pd.DataFrame(ni_ppz_list[1:], columns=ni_ppz_list[0])\n",
    "ni_ppz['scenario'] = 'zero_net_migration'\n",
    "ni_ppz = ni_ppz.drop(\n",
    "    columns=['Sex', 'Age']\n",
    ").melt(\n",
    "    id_vars=['scenario'],\n",
    "    var_name='year',\n",
    "    value_name='zero_net_migration_total'\n",
    ")\n",
    "ni_ppz.zero_net_migration_total = ni_ppz.zero_net_migration_total.astype(int)\n",
    "ni_ppz.year = ni_ppz.year.astype(int)\n",
    "ni_ppz = ni_ppz.drop(columns=['scenario']).groupby(\n",
    "    'year'\n",
    ").sum().reset_index()\n",
    "ni_ppz.head()"
   ]
  },
  {
   "cell_type": "markdown",
   "metadata": {},
   "source": [
    "**NB** Northern Ireland only produces the 'principal' variant population projections, so scale those figures to fit the Northern Ireland country-level projections for the common variants. This is not likely to be consistent with the cohort evolution methodology but does give some variation around the principal projection to use in our scenarios."
   ]
  },
  {
   "cell_type": "code",
   "execution_count": null,
   "metadata": {
    "collapsed": false,
    "deletable": true,
    "editable": true
   },
   "outputs": [],
   "source": [
    "ni_lad = pd.merge(\n",
    "    ni_df, pd.merge(\n",
    "        ni_ppz,\n",
    "        pd.merge(\n",
    "            ni_hpp,\n",
    "            ni_ppp,\n",
    "            how='outer',\n",
    "            on='year'\n",
    "        ),\n",
    "        how='outer',\n",
    "        on='year'\n",
    "    ),\n",
    "    how='outer',\n",
    "    on='year'\n",
    ")\n",
    "ni_lad['zero_net_migration'] = ni_lad.principal * ni_lad.zero_net_migration_total / ni_lad.principal_total\n",
    "ni_lad['high_fertility'] = ni_lad.principal * ni_lad.high_fertility_total / ni_lad.principal_total\n",
    "ni_lad_tidy = ni_lad.drop(\n",
    "    columns=['zero_net_migration_total', 'principal_total', 'high_fertility_total']\n",
    ").melt(\n",
    "    id_vars=['lad_name', 'lad_code', 'year'],\n",
    "    var_name='scenario',\n",
    "    value_name='population'\n",
    ")\n",
    "ni_lad_tidy"
   ]
  },
  {
   "cell_type": "markdown",
   "metadata": {
    "deletable": true,
    "editable": true
   },
   "source": [
    "### Wales"
   ]
  },
  {
   "cell_type": "code",
   "execution_count": null,
   "metadata": {
    "collapsed": false,
    "deletable": true,
    "editable": true
   },
   "outputs": [],
   "source": [
    "wales_df = pd.read_csv(\n",
    "    \"snpp_wales.csv\",\n",
    "    dtype={\n",
    "        'Age_Code': 'str',\n",
    "        'Variant_ItemNotes_ENG': 'str'\n",
    "    }\n",
    ").drop(\n",
    "    columns=[\n",
    "        'Age_Code', 'Age_Hierarchy', 'Age_ItemNotes_ENG', 'Age_SortOrder', \n",
    "        'Area_Code', 'Area_Hierarchy', 'Area_ItemNotes_ENG', 'Area_SortOrder', \n",
    "        'Gender_Code', 'Gender_Hierarchy', 'Gender_ItemNotes_ENG', 'Gender_SortOrder',\n",
    "        'PartitionKey', 'RowKey', \n",
    "        'Variant_ItemName_ENG', 'Variant_ItemNotes_ENG', 'Variant_SortOrder', \n",
    "        'Year_Code', 'Year_ItemNotes_ENG',\n",
    "        'Year_SortOrder'\n",
    "    ]\n",
    ").query(\n",
    "    \"Age_ItemName_ENG == 'All ages' and Gender_ItemName_ENG == 'Persons' and Area_ItemName_ENG != 'Wales'\"\n",
    ").drop(\n",
    "    columns=[\n",
    "        'Age_ItemName_ENG', 'Gender_ItemName_ENG'\n",
    "    ]\n",
    ").rename(\n",
    "    columns={\n",
    "        \"Area_ItemName_ENG\": \"lad_name\",\n",
    "        \"Area_AltCode1\": \"lad_code\",\n",
    "        \"Data\": \"population\",\n",
    "        \"Variant_Code\": \"scenario\",\n",
    "        \"Year_ItemName_ENG\": \"year\"\n",
    "    }\n",
    ").sort_values(\n",
    "    by=['scenario', 'lad_code', 'year']\n",
    ")\n",
    "wales_df"
   ]
  },
  {
   "cell_type": "code",
   "execution_count": null,
   "metadata": {
    "collapsed": false,
    "deletable": true,
    "editable": true
   },
   "outputs": [],
   "source": [
    "def normalise_variant_name(name):\n",
    "    lu = {\n",
    "        'High': 'high', \n",
    "        'Low': 'low', \n",
    "        'Principal': 'principal', \n",
    "        'TenYear': 'ten_year_average_migration', \n",
    "        'ZeroMig': 'zero_net_migration'\n",
    "    }\n",
    "    if name in lu:\n",
    "        name = lu[name]\n",
    "    return name\n",
    "wales_df.scenario = wales_df.scenario.apply(normalise_variant_name)"
   ]
  },
  {
   "cell_type": "code",
   "execution_count": null,
   "metadata": {
    "collapsed": false,
    "deletable": true,
    "editable": true
   },
   "outputs": [],
   "source": [
    "wales_df.scenario.unique()"
   ]
  },
  {
   "cell_type": "code",
   "execution_count": null,
   "metadata": {
    "collapsed": false,
    "deletable": true,
    "editable": true
   },
   "outputs": [],
   "source": [
    "wales_df"
   ]
  },
  {
   "cell_type": "markdown",
   "metadata": {
    "deletable": true,
    "editable": true
   },
   "source": [
    "### Scotland"
   ]
  },
  {
   "cell_type": "code",
   "execution_count": null,
   "metadata": {
    "collapsed": false,
    "deletable": true,
    "editable": true
   },
   "outputs": [],
   "source": [
    "lad_names_codes = pd.read_csv(\"lad_names_codes.csv\")\n",
    "lad_names_codes"
   ]
  },
  {
   "cell_type": "code",
   "execution_count": null,
   "metadata": {
    "collapsed": false,
    "deletable": true,
    "editable": true
   },
   "outputs": [],
   "source": [
    "scotland_df = pd.read_csv(\n",
    "    \"snpp_scotland.csv\"\n",
    ").query(\n",
    "    \"area_type == 'Council area'\"\n",
    ").drop(    \n",
    "    columns=['area_type']\n",
    ").melt(\n",
    "    id_vars=['area', 'year'],\n",
    "    var_name='scenario',\n",
    "    value_name='population'    \n",
    ").rename(\n",
    "    columns={'area': 'lad_name'}\n",
    ")\n",
    "\n",
    "# lowercase scenarios\n",
    "scotland_df.scenario = scotland_df.scenario.apply(lambda s: s.lower())\n",
    "scotland_df.scenario = scotland_df.scenario.apply(lambda n: n.replace('zero_migration', 'zero_net_migration'))\n",
    "# look up lad_codes\n",
    "scotland_df = pd.merge(\n",
    "    scotland_df, lad_names_codes, \n",
    "    how='left', left_on='lad_name', right_on='LAD16NM'\n",
    ").drop(\n",
    "    columns=['LAD16CDO', 'LAD16NM', 'FID']\n",
    ").rename(\n",
    "    columns={'LAD16CD': 'lad_code'}\n",
    ")\n",
    "\n",
    "scotland_df"
   ]
  },
  {
   "cell_type": "code",
   "execution_count": null,
   "metadata": {
    "collapsed": false,
    "deletable": true,
    "editable": true
   },
   "outputs": [],
   "source": [
    "scotland_df.scenario.unique()"
   ]
  },
  {
   "cell_type": "markdown",
   "metadata": {
    "deletable": true,
    "editable": true
   },
   "source": [
    "### Combine common scenarios (variants)"
   ]
  },
  {
   "cell_type": "markdown",
   "metadata": {},
   "source": [
    "**NB** Wales produces a 'high' variant but not a 'high_fertility' variant - use this as substitute for the purposes of initial data exploration."
   ]
  },
  {
   "cell_type": "code",
   "execution_count": null,
   "metadata": {
    "collapsed": false,
    "deletable": true,
    "editable": true
   },
   "outputs": [],
   "source": [
    "wales_df.population = wales_df.population.astype(int)\n",
    "wales_df.scenario = wales_df.scenario.apply(lambda n: n.replace('high', 'high_fertility'))\n",
    "wales_df"
   ]
  },
  {
   "cell_type": "code",
   "execution_count": null,
   "metadata": {
    "collapsed": false,
    "deletable": true,
    "editable": true
   },
   "outputs": [],
   "source": [
    "uk = pd.concat([\n",
    "    england_df,\n",
    "    england_hf_df,\n",
    "    england_znm_df,\n",
    "    wales_df[wales_df.scenario.isin(('principal', 'high_fertility', 'zero_net_migration'))],\n",
    "    scotland_df[scotland_df.scenario.isin(('principal', 'high_fertility', 'zero_net_migration'))],\n",
    "    ni_lad_tidy\n",
    "])\n",
    "uk"
   ]
  },
  {
   "cell_type": "markdown",
   "metadata": {},
   "source": [
    "Output single 'tidy' file for UK."
   ]
  },
  {
   "cell_type": "code",
   "execution_count": null,
   "metadata": {
    "collapsed": false,
    "deletable": true,
    "editable": true
   },
   "outputs": [],
   "source": [
    "uk.to_csv('uk_snpp.csv', index=False)"
   ]
  },
  {
   "cell_type": "markdown",
   "metadata": {
    "deletable": true,
    "editable": true
   },
   "source": [
    "Output one file per scenario"
   ]
  },
  {
   "cell_type": "code",
   "execution_count": null,
   "metadata": {
    "collapsed": false,
    "deletable": true,
    "editable": true
   },
   "outputs": [],
   "source": [
    "for scenario in ('high_fertility', 'principal', 'zero_net_migration'):\n",
    "    uk[uk.scenario == scenario].drop(columns=['scenario']).to_csv(\"uk_snpp_{}.csv\".format(scenario), index=False)"
   ]
  }
 ],
 "metadata": {
  "kernelspec": {
   "display_name": "Python 3",
   "language": "python",
   "name": "python3"
  },
  "language_info": {
   "codemirror_mode": {
    "name": "ipython",
    "version": 3
   },
   "file_extension": ".py",
   "mimetype": "text/x-python",
   "name": "python",
   "nbconvert_exporter": "python",
   "pygments_lexer": "ipython3",
   "version": "3.6.5"
  }
 },
 "nbformat": 4,
 "nbformat_minor": 2
}
