{
 "cells": [
  {
   "cell_type": "markdown",
   "metadata": {
    "deletable": true,
    "editable": true
   },
   "source": [
    "# ITRC Population and economic scenarios"
   ]
  },
  {
   "cell_type": "markdown",
   "metadata": {
    "deletable": true,
    "editable": true
   },
   "source": [
    "This notebook extracts and reformats ITRC population and economic scenarios from NISMOD-DB"
   ]
  },
  {
   "cell_type": "code",
   "execution_count": null,
   "metadata": {
    "deletable": true,
    "editable": true
   },
   "outputs": [],
   "source": [
    "import csv\n",
    "import os\n",
    "\n",
    "import pandas as pd\n",
    "import requests"
   ]
  },
  {
   "cell_type": "markdown",
   "metadata": {
    "deletable": true,
    "editable": true
   },
   "source": [
    "## Acquire datasets\n",
    "\n",
    "Copy tables from NISMOD-DB to csv - the following cell prints SQL commands to run on the ITRC server.\n",
    "\n",
    "These have been extracted and placed on the NISMOD FTP server at `/data/economics/population-economic-tables-nismod-db.zip`"
   ]
  },
  {
   "cell_type": "code",
   "execution_count": null,
   "metadata": {
    "deletable": true,
    "editable": true
   },
   "outputs": [],
   "source": [
    "path = \"D:\\Data\"\n",
    "tables = [\n",
    "    'population_scenarios',\n",
    "    'population_scenario_combination_definitions',\n",
    "    'Population_By_GOR',\n",
    "    'Population_By_Districts',\n",
    "    'Household_By_GOR',\n",
    "    'Household_By_Districts',\n",
    "    'economics_scenarios',\n",
    "    'fossil_fuel_price_scenarios',\n",
    "    'world_economic_growth_scenarios',\n",
    "    'uk_sectors',\n",
    "    'regional_sectors',\n",
    "    'fossil_fuel_price_scenarios',\n",
    "    'fossil_fuel_price_scenarios_values',\n",
    "    'wholesale_fuel_price_fuels',\n",
    "    'world_economic_growth_scenarios',\n",
    "    'world_economic_growth_scenarios_values',\n",
    "    'economics_economicsuknetoutputgvabyindustry',\n",
    "    'government_office_regions',\n",
    "    'economics_economicsuknetoutputgvabyindustryandregion'\n",
    "]\n",
    "for table in tables:\n",
    "    print(\"COPY (SELECT * FROM \\\"{table}\\\") TO '{path}\\{table}.txt' WITH CSV HEADER;\".format(\n",
    "        table=table,\n",
    "        path=path))"
   ]
  },
  {
   "cell_type": "code",
   "execution_count": null,
   "metadata": {
    "deletable": true,
    "editable": true
   },
   "outputs": [],
   "source": [
    "def download(url, file_path):\n",
    "    \"\"\"Download a file from a URL to a given path\n",
    "    \"\"\"\n",
    "    if os.path.exists(file_path):\n",
    "        print(\"Already have\", file_path)\n",
    "    else:\n",
    "        response = requests.get(url)\n",
    "        with open(file_path, 'wb') as fd:\n",
    "            for chunk in response.iter_content(chunk_size=1024):\n",
    "                fd.write(chunk)\n",
    "        print(\"Downloaded\", file_path)"
   ]
  },
  {
   "cell_type": "markdown",
   "metadata": {
    "deletable": true,
    "editable": true
   },
   "source": [
    "Get ONS Local Authority Districts (December 2016) Names and Codes in the United Kingdom"
   ]
  },
  {
   "cell_type": "code",
   "execution_count": null,
   "metadata": {
    "deletable": true,
    "editable": true
   },
   "outputs": [],
   "source": [
    "download(\n",
    "    'https://opendata.arcgis.com/datasets/464be6191a434a91a5fa2f52c7433333_0.csv',\n",
    "    os.path.join(\"raw_data\", \"lad_names_codes.csv\")\n",
    ")"
   ]
  },
  {
   "cell_type": "markdown",
   "metadata": {
    "deletable": true,
    "editable": true
   },
   "source": [
    "Download Northern Ireland population mid-year estimates."
   ]
  },
  {
   "cell_type": "code",
   "execution_count": null,
   "metadata": {
    "deletable": true,
    "editable": true
   },
   "outputs": [],
   "source": [
    "download(\n",
    "    \"https://www.nisra.gov.uk/sites/nisra.gov.uk/files/publications/LGD14-tots-0116.xls\",\n",
    "    os.path.join(\"raw_data\", \"LGD14-tots-0116.xls\")\n",
    ")"
   ]
  },
  {
   "cell_type": "markdown",
   "metadata": {
    "deletable": true,
    "editable": true
   },
   "source": [
    "Local Authority District to Region (December 2016) Lookup in England"
   ]
  },
  {
   "cell_type": "code",
   "execution_count": null,
   "metadata": {
    "deletable": true,
    "editable": true
   },
   "outputs": [],
   "source": [
    "download(\n",
    "    'https://opendata.arcgis.com/datasets/46d0cf00f75e4e4d8f5703c1cee283da_0.csv',\n",
    "    os.path.join(\"raw_data\", \"lad_to_region.csv\")\n",
    ")"
   ]
  },
  {
   "cell_type": "markdown",
   "metadata": {
    "deletable": true,
    "editable": true
   },
   "source": [
    "## Population\n",
    "\n",
    "Population scenarios are generated using three scenario elements: high or low prosperity, sustainability and isolation, which correspond to strength and multiplier values for fertility, mortality and migration.\n",
    "\n",
    "Scenarios are available in two spatial resolutions: Government Office Regions (GOR) and Local Authority Districts (LAD)"
   ]
  },
  {
   "cell_type": "code",
   "execution_count": null,
   "metadata": {
    "deletable": true,
    "editable": true
   },
   "outputs": [],
   "source": [
    "a = pd.read_csv('raw_data/population_scenarios.txt').sort_values(by='id')\n",
    "b = pd.read_csv('raw_data/population_scenario_combination_definitions.txt').sort_values(by='id').drop('scenario', axis=1)\n",
    "population_scenario_definitions = pd.merge(a, b, on='id', validate='one_to_one').drop('id_', axis=1)\n",
    "population_scenario_definitions"
   ]
  },
  {
   "cell_type": "markdown",
   "metadata": {
    "deletable": true,
    "editable": true
   },
   "source": [
    "### Population by GOR"
   ]
  },
  {
   "cell_type": "code",
   "execution_count": null,
   "metadata": {
    "deletable": true,
    "editable": true
   },
   "outputs": [],
   "source": [
    "population_gor = pd.read_csv(\n",
    "    'raw_data/Population_By_GOR.txt'\n",
    ").sort_values(\n",
    "    by=['population_scenario_id', 'gor_id', 'gender', 'year']\n",
    ").drop(\n",
    "    ['gender', 'category', 'gor_id', 'id', 'population_scenario_id'], axis=1\n",
    ").rename(\n",
    "    columns={'location': 'government_office_region'}\n",
    ")\n",
    "population_gor"
   ]
  },
  {
   "cell_type": "code",
   "execution_count": null,
   "metadata": {
    "deletable": true,
    "editable": true
   },
   "outputs": [],
   "source": [
    "population_gor.population_scenario.value_counts()"
   ]
  },
  {
   "cell_type": "markdown",
   "metadata": {
    "deletable": true,
    "editable": true
   },
   "source": [
    "### Population by LAD"
   ]
  },
  {
   "cell_type": "code",
   "execution_count": null,
   "metadata": {
    "deletable": true,
    "editable": true
   },
   "outputs": [],
   "source": [
    "population_lad = pd.read_csv(\n",
    "    'raw_data/Population_By_Districts.txt'\n",
    ").sort_values(\n",
    "    by=['population_scenario_id', 'year', 'location']\n",
    ").drop(\n",
    "    ['gender', 'category', 'district_id', 'id', 'population_scenario_id'], axis=1\n",
    ").dropna()\n",
    "population_lad"
   ]
  },
  {
   "cell_type": "code",
   "execution_count": null,
   "metadata": {
    "deletable": true,
    "editable": true
   },
   "outputs": [],
   "source": [
    "# fix Aberdeen City value\n",
    "population_lad.loc[522343, 'population_scenario']  = \"A\""
   ]
  },
  {
   "cell_type": "code",
   "execution_count": null,
   "metadata": {
    "deletable": true,
    "editable": true
   },
   "outputs": [],
   "source": [
    "len(population_lad.location.unique())"
   ]
  },
  {
   "cell_type": "code",
   "execution_count": null,
   "metadata": {
    "deletable": true,
    "editable": true
   },
   "outputs": [],
   "source": [
    "population_lad.population_scenario.value_counts()"
   ]
  },
  {
   "cell_type": "markdown",
   "metadata": {
    "deletable": true,
    "editable": true
   },
   "source": [
    "### Match districts to 2016 LADs"
   ]
  },
  {
   "cell_type": "code",
   "execution_count": null,
   "metadata": {
    "deletable": true,
    "editable": true
   },
   "outputs": [],
   "source": [
    "population_lad.location = population_lad.location.apply(lambda l: str(l).replace(' UA', ''))"
   ]
  },
  {
   "cell_type": "markdown",
   "metadata": {
    "deletable": true,
    "editable": true
   },
   "source": [
    "Disaggregate Northern Ireland"
   ]
  },
  {
   "cell_type": "code",
   "execution_count": null,
   "metadata": {
    "deletable": true,
    "editable": true
   },
   "outputs": [],
   "source": [
    "nire = population_lad[population_lad.location.isin(['NIRE', 'Northern Ireland'])].copy()\n",
    "nire.location = 'Northern Ireland'\n",
    "nire"
   ]
  },
  {
   "cell_type": "code",
   "execution_count": null,
   "metadata": {
    "deletable": true,
    "editable": true
   },
   "outputs": [],
   "source": [
    "ni_pop = pd.read_excel(\n",
    "    \"raw_data/LGD14-tots-0116.xls\", index_col=[0,1], header=[1]\n",
    ").dropna()[0:12].reset_index().melt(\n",
    "    id_vars=['level_0', 'level_1'],\n",
    "    var_name='year',\n",
    "    value_name='population'\n",
    ").rename(\n",
    "    columns={\n",
    "        'level_0': 'lad_name',\n",
    "        'level_1': 'lad_code'\n",
    "    }\n",
    ").query(\n",
    "    'year == 2016'  # Pick base year for disaggregation\n",
    ")\n",
    "ni_total = ni_pop[ni_pop.lad_code == 'N92000002']\n",
    "ni_lad = ni_pop[ni_pop.lad_code != 'N92000002'].copy()\n",
    "ni_lad['location'] = 'Northern Ireland'"
   ]
  },
  {
   "cell_type": "code",
   "execution_count": null,
   "metadata": {
    "deletable": true,
    "editable": true
   },
   "outputs": [],
   "source": [
    "ni_total"
   ]
  },
  {
   "cell_type": "code",
   "execution_count": null,
   "metadata": {
    "deletable": true,
    "editable": true
   },
   "outputs": [],
   "source": [
    "ni_lad"
   ]
  },
  {
   "cell_type": "code",
   "execution_count": null,
   "metadata": {
    "deletable": true,
    "editable": true
   },
   "outputs": [],
   "source": [
    "base_total = ni_total.population.values[0]\n",
    "base_total"
   ]
  },
  {
   "cell_type": "code",
   "execution_count": null,
   "metadata": {
    "deletable": true,
    "editable": true
   },
   "outputs": [],
   "source": [
    "nire_disagg = pd.merge(\n",
    "    nire, ni_lad,\n",
    "    on='location' \n",
    ").drop(\n",
    "    columns=['year_y']\n",
    ").rename(\n",
    "    columns={\n",
    "        'year_x': 'year',\n",
    "        'population': 'base_population',\n",
    "        'value': 'scenario_total'\n",
    "    }\n",
    ")\n",
    "nire_disagg['value'] = nire_disagg.base_population * nire_disagg.scenario_total / base_total\n",
    "nire_disagg = nire_disagg.drop(\n",
    "    columns=['scenario_total', 'base_population', 'location', 'lad_name']\n",
    ").rename(\n",
    "    columns={'lad_code': 'location'}\n",
    ")\n",
    "nire_disagg"
   ]
  },
  {
   "cell_type": "code",
   "execution_count": null,
   "metadata": {
    "deletable": true,
    "editable": true
   },
   "outputs": [],
   "source": [
    "population_lad = pd.concat([\n",
    "    population_lad[~population_lad.location.isin(['NIRE', 'Northern Ireland'])],\n",
    "    nire_disagg\n",
    "])\n",
    "population_lad"
   ]
  },
  {
   "cell_type": "markdown",
   "metadata": {
    "deletable": true,
    "editable": true
   },
   "source": [
    "Apply name fixes and assumptions about LADs merging post-2009"
   ]
  },
  {
   "cell_type": "code",
   "execution_count": null,
   "metadata": {
    "deletable": true,
    "editable": true
   },
   "outputs": [],
   "source": [
    "rename = {\n",
    "    'Basingstoke and Dean': 'Basingstoke and Deane',\n",
    "    'Bath and North East Some': 'Bath and North East Somerset',\n",
    "    'Berwick-upon-Tweed': 'Berwick upon Tweed',\n",
    "    'County of Herefordshire': 'Herefordshire, County of',\n",
    "    'Hinckley and Boswort': 'Hinckley and Bosworth',\n",
    "    \"King's Lynn and West\": \"King's Lynn and West Norfolk\",\n",
    "    'Kingston upon Hull, City': 'Kingston upon Hull, City of',\n",
    "    'North East Derbyshir': 'North East Derbyshire',\n",
    "    'North West Leicester': 'North West Leicestershire',\n",
    "    'Nuneaton and Bedwort': 'Nuneaton and Bedworth',\n",
    "    'Rhondda, Cynon, Taff': 'Rhondda Cynon Taf',\n",
    "    'South Northamptonshi': 'South Northamptonshire',\n",
    "    'St. Albans': 'St Albans',\n",
    "    'St. Edmundsbury': 'St Edmundsbury',\n",
    "    'Staffordshire Moorla': 'Staffordshire Moorlands',\n",
    "    'Stratford on Avon': 'Stratford-on-Avon',\n",
    "    'Tonbridge and Mallin': 'Tonbridge and Malling',\n",
    "    'The Vale of Glamorgan': 'Vale of Glamorgan',\n",
    "    'Weymouth and Portlan': 'Weymouth and Portland',\n",
    "\n",
    "    'Shrewsbury and Atcha': 'Shrewsbury and Atcham',\n",
    "    'Ellesmere Port & Nes': 'Ellesmere Port & Neston',\n",
    "\n",
    "    # rename (Western Isles in English)\n",
    "    'Na H-Eileanan an Iar': 'Na h-Eileanan Siar',\n",
    "\n",
    "    # Scilly Isles\n",
    "    '15UH': '00HF',\n",
    "\n",
    "    # Old code, looks like Suffolk because of the '42'\n",
    "    # BUT is close to Surrey Heath (43UJ) which had zeroes otherwise\n",
    "    '42UJ': '43UJ',\n",
    "    \n",
    "    # old codes to names\n",
    "    '09UC': 'Mid Bedfordshire',\n",
    "    '09UE': 'South Bedfordshire',\n",
    "    '13UB': 'Chester',\n",
    "    '13UC': 'Congleton',\n",
    "    '13UD': 'Crewe and Nantwich',\n",
    "    '13UE': 'Ellesmere Port & Neston',\n",
    "    '13UG': 'Macclesfield',\n",
    "    '13UH': 'Vale Royal',\n",
    "    '15UB': 'Caradon',\n",
    "    '15UC': 'Carrick',\n",
    "    '15UD': 'Kerrier',\n",
    "    '15UE': 'North Cornwall',\n",
    "    '15UF': 'Penwith',\n",
    "    '15UG': 'Restormel',\n",
    "    '20UB': 'Chester-le-Street',\n",
    "    '20UD': 'Derwentside',\n",
    "    '20UE': 'Durham',\n",
    "    '20UF': 'Easington',\n",
    "    '20UG': 'Sedgefield',\n",
    "    '20UH': 'Teesdale',\n",
    "    '20UJ': 'Wear Valley',\n",
    "    '35UB': 'Alnwick',\n",
    "    '35UC': 'Berwick upon Tweed',\n",
    "    '35UD': 'Blyth Valley',\n",
    "    '35UE': 'Castle Morpeth',\n",
    "    '35UF': 'Tynedale',\n",
    "    '35UG': 'Wansbeck',\n",
    "    '39UB': 'Bridgnorth',\n",
    "    '39UC': 'North Shropshire',\n",
    "    '39UD': 'Oswestry',\n",
    "    '39UE': 'Shrewsbury and Atcham',\n",
    "    '39UF': 'South Shropshire',\n",
    "    '46UB': 'Kennet',\n",
    "    '46UC': 'North Wiltshire',\n",
    "    '46UD': 'Salisbury',\n",
    "    '46UF': 'West Wiltshire'\n",
    "}\n",
    "\n",
    "# See e.g. https://en.wikipedia.org/wiki/2009_structural_changes_to_local_government_in_England\n",
    "merge = {\n",
    "    # Two-tier structures Merged to single authority\n",
    "    'Caradon': 'Cornwall',\n",
    "    'Carrick': 'Cornwall',\n",
    "    'Kerrier': 'Cornwall',\n",
    "    'North Cornwall': 'Cornwall',\n",
    "    'Penwith': 'Cornwall',\n",
    "    'Restormel': 'Cornwall',\n",
    "\n",
    "    'Alnwick': 'Northumberland',\n",
    "    'Berwick upon Tweed': 'Northumberland',\n",
    "    'Blyth Valley': 'Northumberland',\n",
    "    'Castle Morpeth': 'Northumberland',\n",
    "    'Tynedale': 'Northumberland',\n",
    "    'Wansbeck': 'Northumberland',\n",
    "    'Wear Valley': 'Northumberland',\n",
    "\n",
    "    'Bridgnorth': 'Shropshire',\n",
    "    'North Shropshire': 'Shropshire',\n",
    "    'Oswestry': 'Shropshire',\n",
    "    'Shrewsbury and Atcham': 'Shropshire',\n",
    "    'South Shropshire': 'Shropshire',\n",
    "\n",
    "    'Chester-le-Street': 'County Durham',\n",
    "    'Derwentside': 'County Durham',\n",
    "    'Durham': 'County Durham',\n",
    "    'Easington': 'County Durham',\n",
    "    'Sedgefield': 'County Durham',\n",
    "    'Teesdale': 'County Durham',\n",
    "    'Wear Valley': 'County Durham',\n",
    "\n",
    "    'Kennet': 'Wiltshire',\n",
    "    'North Wiltshire': 'Wiltshire',\n",
    "    'Salisbury': 'Wiltshire',\n",
    "    'West Wiltshire': 'Wiltshire',\n",
    "\n",
    "    # Merged into multiple authorities\n",
    "    'Congleton': 'Cheshire East',\n",
    "    'Crewe and Nantwich': 'Cheshire East',\n",
    "    'Vale Royal': 'Cheshire East',\n",
    "\n",
    "    'Chester': 'Cheshire West and Chester',\n",
    "    'Ellesmere Port & Neston': 'Cheshire West and Chester',\n",
    "    'Macclesfield': 'Cheshire West and Chester',\n",
    "\n",
    "    'Mid Bedfordshire': 'Central Bedfordshire',\n",
    "    'South Bedfordshire': 'Central Bedfordshire',\n",
    "\n",
    "    # Bedford > Bedford\n",
    "    '09UD': 'Bedford',\n",
    "}"
   ]
  },
  {
   "cell_type": "code",
   "execution_count": null,
   "metadata": {
    "deletable": true,
    "editable": true
   },
   "outputs": [],
   "source": [
    "old_to_new = {}\n",
    "name_to_new = {}\n",
    "with open(os.path.join('raw_data', 'lad_names_codes.csv'), 'r', encoding='utf-8-sig') as fh:\n",
    "    r = csv.DictReader(fh)\n",
    "    for line in r:\n",
    "        old_to_new[line['LAD16CDO']] = line['LAD16CD']\n",
    "        name_to_new[line['LAD16NM']] = line['LAD16CD']"
   ]
  },
  {
   "cell_type": "code",
   "execution_count": null,
   "metadata": {
    "deletable": true,
    "editable": true
   },
   "outputs": [],
   "source": [
    "def lookup_location(location):\n",
    "    if location in rename:\n",
    "        location = rename[location]\n",
    "\n",
    "    if location in merge:\n",
    "        location = merge[location]   \n",
    "        \n",
    "    if location in name_to_new:\n",
    "        location = name_to_new[location]\n",
    "        \n",
    "    if location in old_to_new:\n",
    "        location = old_to_new[location]\n",
    "        \n",
    "    return location"
   ]
  },
  {
   "cell_type": "code",
   "execution_count": null,
   "metadata": {
    "deletable": true,
    "editable": true
   },
   "outputs": [],
   "source": [
    "population_lad.location = population_lad.location.apply(lookup_location)"
   ]
  },
  {
   "cell_type": "code",
   "execution_count": null,
   "metadata": {
    "deletable": true,
    "editable": true
   },
   "outputs": [],
   "source": [
    "sorted(list(population_lad.location.unique()))"
   ]
  },
  {
   "cell_type": "code",
   "execution_count": null,
   "metadata": {
    "deletable": true,
    "editable": true
   },
   "outputs": [],
   "source": [
    "population_lad = population_lad.rename(\n",
    "    columns={'location': 'lad_2016'}\n",
    ")"
   ]
  },
  {
   "cell_type": "markdown",
   "metadata": {
    "deletable": true,
    "editable": true
   },
   "source": [
    "### Households by GOR"
   ]
  },
  {
   "cell_type": "code",
   "execution_count": null,
   "metadata": {
    "deletable": true,
    "editable": true
   },
   "outputs": [],
   "source": [
    "households_gor = pd.read_csv(\n",
    "    'raw_data/Household_By_GOR.txt'\n",
    ").sort_values(\n",
    "    by=['population_scenario_id', 'gor_id', 'year']\n",
    ").drop(\n",
    "    ['population_scenario_id', 'gor_id', 'id'], axis=1\n",
    ").rename(\n",
    "    columns={'location': 'government_office_region'}\n",
    ")\n",
    "households_gor"
   ]
  },
  {
   "cell_type": "markdown",
   "metadata": {
    "deletable": true,
    "editable": true
   },
   "source": [
    "### Households by LAD"
   ]
  },
  {
   "cell_type": "code",
   "execution_count": null,
   "metadata": {
    "deletable": true,
    "editable": true
   },
   "outputs": [],
   "source": [
    "households_lad = pd.read_csv(\n",
    "    'raw_data/Household_By_Districts.txt'\n",
    ").sort_values(\n",
    "    by=['population_scenario_id', 'district_id', 'year']\n",
    ").drop(\n",
    "    ['population_scenario_id', 'district_id', 'id'], axis=1\n",
    ")"
   ]
  },
  {
   "cell_type": "code",
   "execution_count": null,
   "metadata": {
    "deletable": true,
    "editable": true
   },
   "outputs": [],
   "source": [
    "households_lad.location = households_lad.location.apply(lambda l: str(l).replace(' UA', ''))\n",
    "households_lad = households_lad[households_lad['location'] != 'NIRE']\n",
    "households_lad = households_lad[households_lad['location'] != 'Northern Ireland']\n",
    "households_lad.location = households_lad.location.apply(lookup_location)"
   ]
  },
  {
   "cell_type": "code",
   "execution_count": null,
   "metadata": {
    "deletable": true,
    "editable": true
   },
   "outputs": [],
   "source": [
    "households_lad"
   ]
  },
  {
   "cell_type": "markdown",
   "metadata": {
    "deletable": true,
    "editable": true
   },
   "source": [
    "## Economics\n",
    "\n",
    "Economics scenarios are generated using three scenario elements: population, fossil fuel prices and world economic growth.\n",
    "\n",
    "GVA is projected for a larger set of economic sectors for the whole of the UK, or with a smaller set of economic sectors for Government Office Regions (GOR). The sectors are mapped to the [UK Standard Industry Classification (SIC)](https://www.ons.gov.uk/methodology/classificationsandstandards/ukstandardindustrialclassificationofeconomicactivities/uksic2007), which is aligned with the Statistical Classification of Economic Activities in the European Community, Rev. 2 (2008) and the International Standard Industrial Classification of All Economic Activities, Rev. 4 (2008).\n",
    "\n",
    "Population scenarios are time series for either LADs or GORs, as above. Fossil fuel price and world economic growth scenarios are both time series with global (or no) spatial resolution."
   ]
  },
  {
   "cell_type": "code",
   "execution_count": null,
   "metadata": {
    "deletable": true,
    "editable": true
   },
   "outputs": [],
   "source": [
    "econ_fuel = pd.merge(    \n",
    "    pd.read_csv('raw_data/economics_scenarios.txt'), \n",
    "    pd.read_csv('raw_data/fossil_fuel_price_scenarios.txt'), \n",
    "    left_on='fossil_fuel_price_scenario_id', right_on='id')[[\n",
    "    'id_x',\n",
    "    'scenario_id',\n",
    "    'scenario_description',\n",
    "    'id_y',\n",
    "    'code',\n",
    "    'description',\n",
    "    'population_scenario_id',\n",
    "    'world_economic_growth_scenario_id'    \n",
    "]].rename(\n",
    "    columns={\n",
    "        'id_x': 'scenario_id',\n",
    "        'scenario_id': 'scenario_code',\n",
    "        'scenario_description': 'scenario_desc',\n",
    "        'id_y': 'fuel_s_id',\n",
    "        'code': 'fuel_s_code',\n",
    "        'description': 'fuel_s_desc',\n",
    "    }\n",
    ").sort_values(\n",
    "    by='scenario_id'\n",
    ")\n",
    "econ_fuel.head()"
   ]
  },
  {
   "cell_type": "code",
   "execution_count": null,
   "metadata": {
    "deletable": true,
    "editable": true
   },
   "outputs": [],
   "source": [
    "econ_fuel_growth = pd.merge(\n",
    "    econ_fuel,\n",
    "    pd.read_csv('raw_data/world_economic_growth_scenarios.txt'), \n",
    "    left_on='world_economic_growth_scenario_id', right_on='id')[[\n",
    "    'scenario_id',\n",
    "    'scenario_code',\n",
    "    'scenario_desc',\n",
    "    'population_scenario_id',\n",
    "    'id',\n",
    "    'code',\n",
    "    'description',\n",
    "    'fuel_s_id',\n",
    "    'fuel_s_code',\n",
    "    'fuel_s_desc',\n",
    "]].rename(\n",
    "    columns={\n",
    "        'id': 'econ_s_id',\n",
    "        'code': 'econ_s_code',\n",
    "        'description': 'econ_s_desc',\n",
    "    }\n",
    ")\n",
    "econ_fuel_growth"
   ]
  },
  {
   "cell_type": "code",
   "execution_count": null,
   "metadata": {
    "deletable": true,
    "editable": true
   },
   "outputs": [],
   "source": [
    "econ_fuel_growth.population_scenario_id = econ_fuel_growth.population_scenario_id.apply(lambda d: d.strip())"
   ]
  },
  {
   "cell_type": "code",
   "execution_count": null,
   "metadata": {
    "deletable": true,
    "editable": true
   },
   "outputs": [],
   "source": [
    "econ_fuel_growth.population_scenario_id.unique()"
   ]
  },
  {
   "cell_type": "code",
   "execution_count": null,
   "metadata": {
    "deletable": true,
    "editable": true
   },
   "outputs": [],
   "source": [
    "population_scenario_definitions.scenario_id.unique()"
   ]
  },
  {
   "cell_type": "code",
   "execution_count": null,
   "metadata": {
    "deletable": true,
    "editable": true
   },
   "outputs": [],
   "source": [
    "scenario_definitions = pd.merge(\n",
    "    econ_fuel_growth, \n",
    "    population_scenario_definitions, \n",
    "    left_on='population_scenario_id', right_on='scenario_id', \n",
    "    validate='many_to_one'\n",
    ")[[\n",
    "    'scenario_id_x',\n",
    "    'scenario_code',\n",
    "    'scenario_desc',\n",
    "    'econ_s_id',\n",
    "    'econ_s_code',\n",
    "    'econ_s_desc',\n",
    "    'fuel_s_id',\n",
    "    'fuel_s_code',\n",
    "    'fuel_s_desc',\n",
    "    'id', \n",
    "    'scenario_id_y',\n",
    "    'population_scenario_id',\n",
    "    'scenario_description',\n",
    "    'base_census_year', 'prosperity', 'sustainability', 'isolation',\n",
    "    'fertility_strength', 'mortality_strength', 'migration_strength',\n",
    "    'fertility_multiplier', 'mortality_multiplier', 'migration_multiplier'\n",
    "]].rename(\n",
    "    columns={\n",
    "        'scenario_id_x': 'scenario_id',\n",
    "        'scenario_id_y': 'pop_s_id',\n",
    "        'population_scenario_id': 'pop_s_code',\n",
    "        'scenario_description': 'pop_s_desc'\n",
    "    }\n",
    ")\n",
    "scenario_definitions"
   ]
  },
  {
   "cell_type": "code",
   "execution_count": null,
   "metadata": {
    "deletable": true,
    "editable": true
   },
   "outputs": [],
   "source": [
    "scenario_definitions['scenario_code_new'] = scenario_definitions.apply(\n",
    "    lambda r: \"pop-{}_econ-{}_fuel-{}\".format(r.pop_s_code, r.fuel_s_code, r.econ_s_code).lower(), axis=1\n",
    ")\n",
    "scenario_definitions['description']= scenario_definitions.apply(\n",
    "    lambda r: \"\"\"{} population scenario: {}.\n",
    "{} world economic growth scenario.\n",
    "{} fossil fuel price scenario.\n",
    "\"\"\".format(\n",
    "        r.pop_s_code, str(r.pop_s_desc).lower(), \n",
    "        r.fuel_s_code, \n",
    "        r.econ_s_code), axis=1\n",
    ")"
   ]
  },
  {
   "cell_type": "code",
   "execution_count": null,
   "metadata": {
    "deletable": true,
    "editable": true
   },
   "outputs": [],
   "source": [
    "scenario_definitions.description[0]"
   ]
  },
  {
   "cell_type": "markdown",
   "metadata": {
    "deletable": true,
    "editable": true
   },
   "source": [
    "### Standard industrial classification\n",
    "\n",
    "The UK Standard Industrial Classification(SIC) is aligned with the Statistical Classification of Economic Activities in the European Community, Rev. 2 (2008) and the International Standard Industrial Classification of All Economic Activities, Rev. 4 (2008).\n",
    "\n",
    "These are all hierarchical classifications which use the same codes and descriptions - letters (A-T) at the top level, numbers (1-99) at the second level, and decimals for the third level (e.g. 6.1, 6.2).\n",
    "\n",
    "The sectors used in the ITRC scenarios map closely to the SIC, with some grouping and splitting between levels, based on my reading of the sector names and SIC text descriptions."
   ]
  },
  {
   "cell_type": "code",
   "execution_count": null,
   "metadata": {
    "deletable": true,
    "editable": true
   },
   "outputs": [],
   "source": [
    "uk_sectors = pd.read_csv('raw_data/uk_sectors.txt')\n",
    "uk_sectors"
   ]
  },
  {
   "cell_type": "code",
   "execution_count": null,
   "metadata": {
    "deletable": true,
    "editable": true
   },
   "outputs": [],
   "source": [
    "regional_sectors = pd.read_csv('raw_data/regional_sectors.txt')\n",
    "regional_sectors"
   ]
  },
  {
   "cell_type": "markdown",
   "metadata": {
    "deletable": true,
    "editable": true
   },
   "source": [
    "## Fuel price scenarios"
   ]
  },
  {
   "cell_type": "code",
   "execution_count": null,
   "metadata": {
    "deletable": true,
    "editable": true
   },
   "outputs": [],
   "source": [
    "a = pd.read_csv('raw_data/fossil_fuel_price_scenarios.txt')\n",
    "b = pd.read_csv('raw_data/fossil_fuel_price_scenarios_values.txt')\n",
    "c = pd.merge(a, b, left_on='id', right_on='scenario_id', validate='one_to_many')\n",
    "d = pd.read_csv('raw_data/wholesale_fuel_price_fuels.txt')\n",
    "fossil_fuel_price_scenarios = pd.merge(c, d, left_on='fuelid', right_on='wholesale_fuel_price_id', validate='many_to_one')[[\n",
    "    'description',\n",
    "    'code',\n",
    "    'scenario_id',\n",
    "    'year',\n",
    "    'value',\n",
    "    'wholesale_fuel_price_name',\n",
    "    'wholesale_fuel_price_units'\n",
    "]].sort_values(\n",
    "    by=['code', 'year', 'wholesale_fuel_price_name']\n",
    ").drop(\n",
    "    ['description', 'scenario_id', 'wholesale_fuel_price_units'], axis=1\n",
    ").rename(\n",
    "    columns={'wholesale_fuel_price_name':'fuel'}\n",
    ")\n",
    "fossil_fuel_price_scenarios"
   ]
  },
  {
   "cell_type": "code",
   "execution_count": null,
   "metadata": {
    "deletable": true,
    "editable": true
   },
   "outputs": [],
   "source": [
    "oil_price = fossil_fuel_price_scenarios[fossil_fuel_price_scenarios.fuel == 'Crude Oil'].drop('fuel', axis=1)\n",
    "oil_price"
   ]
  },
  {
   "cell_type": "code",
   "execution_count": null,
   "metadata": {
    "deletable": true,
    "editable": true
   },
   "outputs": [],
   "source": [
    "coal_price = fossil_fuel_price_scenarios[fossil_fuel_price_scenarios.fuel == 'Coal'].drop('fuel', axis=1)\n",
    "coal_price"
   ]
  },
  {
   "cell_type": "code",
   "execution_count": null,
   "metadata": {
    "deletable": true,
    "editable": true
   },
   "outputs": [],
   "source": [
    "gas_price = fossil_fuel_price_scenarios[fossil_fuel_price_scenarios.fuel == 'Gas'].drop('fuel', axis=1)\n",
    "gas_price"
   ]
  },
  {
   "cell_type": "markdown",
   "metadata": {
    "deletable": true,
    "editable": true
   },
   "source": [
    "## World economic growth scenarios"
   ]
  },
  {
   "cell_type": "code",
   "execution_count": null,
   "metadata": {
    "deletable": true,
    "editable": true
   },
   "outputs": [],
   "source": [
    "a = pd.read_csv('raw_data/world_economic_growth_scenarios.txt')\n",
    "b = pd.read_csv('raw_data/world_economic_growth_scenarios_values.txt')\n",
    "world_economic_growth_scenarios = pd.merge(\n",
    "    a, b, left_on='id', right_on='scenario_id', validate='one_to_many'\n",
    ")[\n",
    "    ['code', 'description', 'year', 'index_value', 'growth_value']\n",
    "]\n",
    "world_economic_growth_scenarios"
   ]
  },
  {
   "cell_type": "markdown",
   "metadata": {
    "deletable": true,
    "editable": true
   },
   "source": [
    "## UK scenarios"
   ]
  },
  {
   "cell_type": "code",
   "execution_count": null,
   "metadata": {
    "deletable": true,
    "editable": true
   },
   "outputs": [],
   "source": [
    "gva_uk_by_sector = pd.read_csv(\n",
    "    'raw_data/economics_economicsuknetoutputgvabyindustry.txt'\n",
    ").rename(\n",
    "    columns={\n",
    "        'file_uuid_id': 'scenario_id',\n",
    "        'uk_industry_sector': 'economic_sector__uk'\n",
    "    }\n",
    ").drop(\n",
    "    ['id', 'added_on'], axis=1\n",
    ")\n",
    "gva_uk_by_sector"
   ]
  },
  {
   "cell_type": "markdown",
   "metadata": {
    "deletable": true,
    "editable": true
   },
   "source": [
    "## Regional scenarios\n",
    "\n",
    "Government Office Regions are still used as NUTS1 statistical regions for the UK: Scotland, Wales, Northern Ireland and nine regions within England."
   ]
  },
  {
   "cell_type": "code",
   "execution_count": null,
   "metadata": {
    "deletable": true,
    "editable": true
   },
   "outputs": [],
   "source": [
    "regions = pd.read_csv('raw_data/government_office_regions.txt')[\n",
    "    ['gid', 'name']\n",
    "]\n",
    "regions"
   ]
  },
  {
   "cell_type": "code",
   "execution_count": null,
   "metadata": {
    "deletable": true,
    "editable": true
   },
   "outputs": [],
   "source": [
    "gva_gor_by_sector = pd.merge(\n",
    "    pd.read_csv('raw_data/economics_economicsuknetoutputgvabyindustryandregion.txt'),\n",
    "    regions,\n",
    "    left_on='region', right_on='gid'\n",
    ").rename(\n",
    "    columns={\n",
    "        'file_uuid_id': 'scenario_id',\n",
    "        'region': 'region_id',\n",
    "        'name': 'government_office_region',\n",
    "        'regional_industry_sector': 'economic_sector__gor',\n",
    "    }\n",
    ").drop(\n",
    "    ['added_on', 'id', 'gid', 'region_id'], axis=1\n",
    ")"
   ]
  },
  {
   "cell_type": "code",
   "execution_count": null,
   "metadata": {
    "deletable": true,
    "editable": true
   },
   "outputs": [],
   "source": [
    "gva_gor_by_sector"
   ]
  },
  {
   "cell_type": "markdown",
   "metadata": {
    "deletable": true,
    "editable": true
   },
   "source": [
    "## GVA per capita\n",
    "\n",
    "1. Calculate GVA per capita for regions (GORs)\n",
    "1. Assign GVA per capita value to each LAD based on its parent GOR (no attempt to disaggregate or add information)"
   ]
  },
  {
   "cell_type": "code",
   "execution_count": null,
   "metadata": {
    "deletable": true,
    "editable": true
   },
   "outputs": [],
   "source": [
    "gva_gor_with_pop_scenario = pd.merge(\n",
    "    gva_gor_by_sector, \n",
    "    scenario_definitions[['scenario_id', 'pop_s_code']],\n",
    "    on='scenario_id'\n",
    ")\n",
    "gva_gor_with_pop_scenario"
   ]
  },
  {
   "cell_type": "code",
   "execution_count": null,
   "metadata": {
    "deletable": true,
    "editable": true
   },
   "outputs": [],
   "source": [
    "gva_pc_gor = pd.merge(\n",
    "    gva_gor_with_pop_scenario.rename(columns={'value': 'gva'}), \n",
    "    population_gor.rename(\n",
    "        columns={'value': 'population'}\n",
    "    ),\n",
    "    left_on=['pop_s_code', 'government_office_region', 'year'], \n",
    "    right_on=['population_scenario', 'government_office_region', 'year'],\n",
    "    validate='many_to_one'\n",
    ")\n",
    "# [[\n",
    "#     'population_scenario', 'year', 'government_office_region', 'economic_sector__gor', 'gva', 'population'\n",
    "# ]]\n",
    "gva_pc_gor['value'] = gva_pc_gor.gva * 1000000 / gva_pc_gor.population \n",
    "gva_pc_gor = gva_pc_gor.drop(['gva', 'population'], axis=1)"
   ]
  },
  {
   "cell_type": "code",
   "execution_count": null,
   "metadata": {
    "deletable": true,
    "editable": true
   },
   "outputs": [],
   "source": [
    "gva_pc_gor"
   ]
  },
  {
   "cell_type": "markdown",
   "metadata": {
    "deletable": true,
    "editable": true
   },
   "source": [
    "### Local Authority Districts"
   ]
  },
  {
   "cell_type": "code",
   "execution_count": null,
   "metadata": {
    "deletable": true,
    "editable": true
   },
   "outputs": [],
   "source": [
    "def define_gor(row):\n",
    "    country_letter = row.LAD16CD[0]\n",
    "    if country_letter == 'E':\n",
    "        return row.RGN16NM\n",
    "    if country_letter == 'S':\n",
    "        return 'Scotland'\n",
    "    if country_letter == 'W':\n",
    "        return 'Wales'\n",
    "    if country_letter == 'N':\n",
    "        return 'Northern Ireland'"
   ]
  },
  {
   "cell_type": "code",
   "execution_count": null,
   "metadata": {
    "deletable": true,
    "editable": true
   },
   "outputs": [],
   "source": [
    "a = pd.read_csv(\n",
    "    'raw_data/lad_to_region.csv'\n",
    ").drop(\n",
    "    ['LAD16NM', 'FID'], axis=1\n",
    ")\n",
    "print(len(a))\n",
    "\n",
    "b = pd.read_csv(\n",
    "    'raw_data/lad_names_codes.csv'\n",
    ").drop(\n",
    "    ['LAD16CDO', 'FID'], axis=1\n",
    ")\n",
    "print(len(b))\n",
    "\n",
    "c = pd.merge(\n",
    "    b, a, on='LAD16CD',\n",
    "    how='left'\n",
    ")\n",
    "c.RGN16NM = c.apply(define_gor, axis=1)\n",
    "print(len(c))\n",
    "\n",
    "lad_gor = pd.merge(\n",
    "    c, regions, \n",
    "    left_on='RGN16NM', right_on='name',\n",
    "    how='left'\n",
    ").drop(\n",
    "    ['name','RGN16CD', 'LAD16NM', 'gid'], axis=1\n",
    ").rename(\n",
    "    columns={\n",
    "        'LAD16CD': 'lad_2016',\n",
    "        'RGN16CD': 'region_code',\n",
    "        'RGN16NM': 'government_office_region',\n",
    "        'LAD16NM': 'lad_2016_name'\n",
    "    }\n",
    ").sort_values(\n",
    "    by='lad_2016'\n",
    ")\n",
    "print(len(lad_gor))"
   ]
  },
  {
   "cell_type": "code",
   "execution_count": null,
   "metadata": {
    "deletable": true,
    "editable": true
   },
   "outputs": [],
   "source": [
    "lad_gor"
   ]
  },
  {
   "cell_type": "markdown",
   "metadata": {
    "deletable": true,
    "editable": true
   },
   "source": [
    "# Output\n",
    "\n",
    "Output all scenario data per economic scenario (which encompasses/relies on population, fuel prices, world growth)."
   ]
  },
  {
   "cell_type": "code",
   "execution_count": null,
   "metadata": {
    "deletable": true,
    "editable": true
   },
   "outputs": [],
   "source": [
    "# how to handle components/parameters/definitions?\n",
    "for s in scenario_definitions.itertuples():\n",
    "    try:\n",
    "        os.mkdir(os.path.join('data', s.scenario_code_new))\n",
    "    except FileExistsError:\n",
    "        pass"
   ]
  },
  {
   "cell_type": "code",
   "execution_count": null,
   "metadata": {
    "deletable": true,
    "editable": true
   },
   "outputs": [],
   "source": [
    "# economic_sectors__regional (dimension, not data)\n",
    "regional_sectors.rename(\n",
    "    columns={\n",
    "        'sector_id': 'id',\n",
    "        'sector_name': 'description'\n",
    "    }\n",
    ").to_csv('data/economic_sectors__regional.csv', index=False)"
   ]
  },
  {
   "cell_type": "code",
   "execution_count": null,
   "metadata": {
    "deletable": true,
    "editable": true
   },
   "outputs": [],
   "source": [
    "# economic_sectors__uk (dimension, not data)\n",
    "uk_sectors.rename(\n",
    "    columns={\n",
    "        'sector_id': 'id',\n",
    "        'sector_name': 'description'\n",
    "    }\n",
    ").to_csv('data/economic_sectors__uk.csv', index=False)"
   ]
  },
  {
   "cell_type": "code",
   "execution_count": null,
   "metadata": {
    "deletable": true,
    "editable": true
   },
   "outputs": [],
   "source": [
    "# population__gor\n",
    "for s in scenario_definitions.itertuples():\n",
    "    fname = 'data/{}/population__gor.csv'.format(s.scenario_code_new)\n",
    "    population_gor[\n",
    "        population_gor.population_scenario == s.pop_s_code\n",
    "    ][[\n",
    "        'year',\n",
    "        'government_office_region',\n",
    "        'value'\n",
    "    ]].rename(\n",
    "        columns={'government_office_region': 'region'}\n",
    "     ).to_csv(\n",
    "        fname,\n",
    "        index=False\n",
    "    )"
   ]
  },
  {
   "cell_type": "code",
   "execution_count": null,
   "metadata": {
    "deletable": true,
    "editable": true
   },
   "outputs": [],
   "source": [
    "# population__lad\n",
    "for s in scenario_definitions.itertuples():\n",
    "    fname = 'data/{}/population__lad.csv'.format(s.scenario_code_new)\n",
    "    population_lad[\n",
    "        population_lad.population_scenario == s.pop_s_code\n",
    "    ][[\n",
    "        'year',\n",
    "        'lad_2016',\n",
    "        'value'\n",
    "    ]].rename(\n",
    "        columns={'lad_2016': 'region'}\n",
    "     ).sort_values(\n",
    "        by=['year','region']\n",
    "    ).to_csv(\n",
    "        fname,\n",
    "        index=False\n",
    "    )"
   ]
  },
  {
   "cell_type": "code",
   "execution_count": null,
   "metadata": {
    "deletable": true,
    "editable": true
   },
   "outputs": [],
   "source": [
    "# households__gor\n",
    "for s in scenario_definitions.itertuples():\n",
    "    fname = 'data/{}/households__gor.csv'.format(s.scenario_code_new)\n",
    "    households_gor[\n",
    "        households_gor.population_scenario == s.pop_s_code\n",
    "    ][[\n",
    "        'year',\n",
    "        'government_office_region',\n",
    "        'value'\n",
    "    ]].rename(\n",
    "        columns={'government_office_region': 'region'}\n",
    "     ).to_csv(\n",
    "        fname,\n",
    "        index=False\n",
    "    )"
   ]
  },
  {
   "cell_type": "code",
   "execution_count": null,
   "metadata": {
    "deletable": true,
    "editable": true
   },
   "outputs": [],
   "source": [
    "# households__lad\n",
    "for s in scenario_definitions.itertuples():\n",
    "    fname = 'data/{}/households__lad.csv'.format(s.scenario_code_new)\n",
    "    households_lad[\n",
    "        households_lad.population_scenario == s.pop_s_code\n",
    "    ][[\n",
    "        'year',\n",
    "        'location',\n",
    "        'value'\n",
    "    ]].rename(\n",
    "        columns={'location': 'region'}\n",
    "     ).sort_values(\n",
    "        by=['year','region']\n",
    "    ).to_csv(\n",
    "        fname,\n",
    "        index=False\n",
    "    )"
   ]
  },
  {
   "cell_type": "code",
   "execution_count": null,
   "metadata": {
    "deletable": true,
    "editable": true
   },
   "outputs": [],
   "source": [
    "# world_growth__index, world_growth__growth\n",
    "for s in scenario_definitions.itertuples():\n",
    "    i_fname = 'data/{}/world_growth__index.csv'.format(s.scenario_code_new) \n",
    "    g_fname = 'data/{}/world_growth__growth.csv'.format(s.scenario_code_new)\n",
    "    \n",
    "    world_economic_growth_scenarios.rename(\n",
    "        columns={'index_value': 'value'}\n",
    "    )[\n",
    "        world_economic_growth_scenarios.code == s.econ_s_code\n",
    "    ][\n",
    "        ['year', 'value']\n",
    "    ].to_csv(\n",
    "        i_fname, index=False\n",
    "    )\n",
    "    \n",
    "    world_economic_growth_scenarios.rename(\n",
    "        columns={'growth_value': 'value'}\n",
    "    )[\n",
    "        world_economic_growth_scenarios.code == s.econ_s_code\n",
    "    ][\n",
    "        ['year', 'value']\n",
    "    ].to_csv(\n",
    "        g_fname, index=False\n",
    "    )"
   ]
  },
  {
   "cell_type": "code",
   "execution_count": null,
   "metadata": {
    "deletable": true,
    "editable": true
   },
   "outputs": [],
   "source": [
    "# coal_price, oil_price, gas_price\n",
    "for s in scenario_definitions.itertuples():\n",
    "    coal_price[\n",
    "        coal_price.code == s.fuel_s_code\n",
    "    ][\n",
    "        ['year', 'value']\n",
    "    ].to_csv(\n",
    "        'data/{}/coal_price.csv'.format(s.scenario_code_new), index=False\n",
    "    )  \n",
    "    \n",
    "    oil_price[\n",
    "        oil_price.code == s.fuel_s_code\n",
    "    ][\n",
    "        ['year', 'value']\n",
    "    ].to_csv(\n",
    "        'data/{}/oil_price.csv'.format(s.scenario_code_new), index=False\n",
    "    )  \n",
    "    \n",
    "    gas_price[\n",
    "        gas_price.code == s.fuel_s_code\n",
    "    ][\n",
    "        ['year', 'value']\n",
    "    ].to_csv(\n",
    "        'data/{}/gas_price.csv'.format(s.scenario_code_new), index=False\n",
    "    )"
   ]
  },
  {
   "cell_type": "code",
   "execution_count": null,
   "metadata": {
    "deletable": true,
    "editable": true
   },
   "outputs": [],
   "source": [
    "# gva__uk\n",
    "for s in scenario_definitions.itertuples():\n",
    "    gva_uk_by_sector[\n",
    "        gva_uk_by_sector.scenario_id == s.scenario_id\n",
    "    ][\n",
    "        ['year', 'value']\n",
    "    ].groupby('year').sum().to_csv('data/{}/gva__uk.csv'.format(s.scenario_code_new))"
   ]
  },
  {
   "cell_type": "code",
   "execution_count": null,
   "metadata": {
    "deletable": true,
    "editable": true
   },
   "outputs": [],
   "source": [
    "# gva__uk_sector\n",
    "for s in scenario_definitions.itertuples():\n",
    "    gva_uk_by_sector[\n",
    "        gva_uk_by_sector.scenario_id == s.scenario_id\n",
    "    ][\n",
    "        ['economic_sector__uk', 'year', 'value']\n",
    "    ].to_csv('data/{}/gva__uk_sector.csv'.format(s.scenario_code_new), index=False)"
   ]
  },
  {
   "cell_type": "code",
   "execution_count": null,
   "metadata": {
    "deletable": true,
    "editable": true
   },
   "outputs": [],
   "source": [
    "# gva__gor_sector\n",
    "for s in scenario_definitions.itertuples():\n",
    "    gva_gor_by_sector[\n",
    "        gva_gor_by_sector.scenario_id == s.scenario_id\n",
    "    ][\n",
    "        ['government_office_region', 'economic_sector__gor', 'year', 'value']\n",
    "    ].to_csv('data/{}/gva__gor_sector.csv'.format(s.scenario_code_new), index=False)"
   ]
  },
  {
   "cell_type": "code",
   "execution_count": null,
   "metadata": {
    "deletable": true,
    "editable": true
   },
   "outputs": [],
   "source": [
    "# gva__gor\n",
    "for s in scenario_definitions.itertuples():\n",
    "    gva_gor_by_sector[\n",
    "        gva_gor_by_sector.scenario_id == s.scenario_id\n",
    "    ][\n",
    "        ['government_office_region', 'year', 'value']\n",
    "    ].groupby(['government_office_region', 'year']).sum().reset_index().to_csv(\n",
    "        'data/{}/gva__gor.csv'.format(s.scenario_code_new), index=False\n",
    "    )"
   ]
  },
  {
   "cell_type": "code",
   "execution_count": null,
   "metadata": {
    "deletable": true,
    "editable": true
   },
   "outputs": [],
   "source": [
    "# gva_per_head__gor_sector\n",
    "for s in scenario_definitions.itertuples():\n",
    "    gva_pc_gor[\n",
    "        gva_pc_gor.scenario_id == s.scenario_id\n",
    "    ][\n",
    "        ['government_office_region', 'economic_sector__gor', 'year', 'value']\n",
    "    ].to_csv(\n",
    "        'data/{}/gva_per_head__gor_sector.csv'.format(s.scenario_code_new), index=False\n",
    "    )"
   ]
  },
  {
   "cell_type": "code",
   "execution_count": null,
   "metadata": {
    "deletable": true,
    "editable": true
   },
   "outputs": [],
   "source": [
    "# gva_per_head_gor\n",
    "for s in scenario_definitions.itertuples():\n",
    "    gva_pc_gor[\n",
    "        gva_pc_gor.scenario_id == s.scenario_id\n",
    "    ].drop(\n",
    "        ['scenario_id', 'economic_sector__gor'], axis=1\n",
    "    ).groupby(\n",
    "        ['government_office_region', 'year']\n",
    "    ).sum().reset_index().to_csv(\n",
    "        'data/{}/gva_per_head__gor.csv'.format(s.scenario_code_new), index=False\n",
    "    )"
   ]
  },
  {
   "cell_type": "code",
   "execution_count": null,
   "metadata": {
    "deletable": true,
    "editable": true
   },
   "outputs": [],
   "source": [
    "gva_pc_gor"
   ]
  },
  {
   "cell_type": "code",
   "execution_count": null,
   "metadata": {
    "deletable": true,
    "editable": true
   },
   "outputs": [],
   "source": [
    "# gva_per_head__lad\n",
    "for s in scenario_definitions.itertuples():\n",
    "    pd.merge(\n",
    "        lad_gor,\n",
    "        gva_pc_gor[\n",
    "            gva_pc_gor.scenario_id == s.scenario_id\n",
    "        ].drop(\n",
    "            ['economic_sector__gor', 'pop_s_code', 'population_scenario'], axis=1\n",
    "        ).groupby(\n",
    "            ['scenario_id', 'government_office_region', 'year']\n",
    "        ).sum().reset_index(),\n",
    "        on='government_office_region',\n",
    "        how='left'\n",
    "    ).drop(\n",
    "        ['government_office_region', 'scenario_id'], axis=1\n",
    "    ).rename(\n",
    "        columns={'lad_2016': 'region'}\n",
    "    ).to_csv(\n",
    "        'data/{}/gva_per_head__lad.csv'.format(s.scenario_code_new), index=False\n",
    "    )"
   ]
  },
  {
   "cell_type": "code",
   "execution_count": null,
   "metadata": {
    "deletable": true,
    "editable": true
   },
   "outputs": [],
   "source": [
    "# gva_per_head__lad_sector\n",
    "for s in scenario_definitions.itertuples():\n",
    "    pd.merge(\n",
    "        lad_gor,\n",
    "        gva_pc_gor[\n",
    "            gva_pc_gor.scenario_id == s.scenario_id\n",
    "        ].drop(\n",
    "            ['pop_s_code', 'population_scenario'], axis=1\n",
    "        ),\n",
    "        on='government_office_region',\n",
    "        how='left'\n",
    "    ).drop(\n",
    "        ['government_office_region', 'scenario_id'], axis=1\n",
    "    ).rename(\n",
    "        columns={'lad_2016': 'region'}\n",
    "    ).to_csv(\n",
    "        'data/{}/gva_per_head__lad_sector.csv'.format(s.scenario_code_new), index=False\n",
    "    )"
   ]
  }
 ],
 "metadata": {
  "kernelspec": {
   "display_name": "Python 3",
   "language": "python",
   "name": "python3"
  },
  "language_info": {
   "codemirror_mode": {
    "name": "ipython",
    "version": 3
   },
   "file_extension": ".py",
   "mimetype": "text/x-python",
   "name": "python",
   "nbconvert_exporter": "python",
   "pygments_lexer": "ipython3",
   "version": "3.6.5"
  }
 },
 "nbformat": 4,
 "nbformat_minor": 2
}
